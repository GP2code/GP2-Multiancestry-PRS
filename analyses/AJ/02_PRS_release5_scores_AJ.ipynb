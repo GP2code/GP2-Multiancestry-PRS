{
 "cells": [
  {
   "cell_type": "markdown",
   "id": "bee44160-ed20-4d1b-a172-5f7efb4f2092",
   "metadata": {},
   "source": [
    "# Estimate Multi-ancestry PRS profiles - AJ\n",
    "- **Project:** Multi-ancestry PRS\n",
    "- **Version:** Python/3.9\n",
    "- **Status:** COMPLETE\n",
    "- **Last Updated:** 16-NOV-2023\n",
    "\n",
    "## Notebook Overview\n",
    "- Extract 90 SNPs from individual level data across ancestries in unrelated individual level data\n",
    "- Merge files\n",
    "- Estimate profiles\n"
   ]
  },
  {
   "cell_type": "markdown",
   "id": "1f0f9499-411b-4012-85c1-b2fc3b50d7ec",
   "metadata": {},
   "source": [
    "## Extract 90 SNPs from individual level data across ancestries in unrelated individual level data"
   ]
  },
  {
   "cell_type": "code",
   "execution_count": null,
   "id": "7805d2a6-84be-4c9d-ad59-d479119cb4ec",
   "metadata": {},
   "outputs": [],
   "source": [
    "###################################### AJ ######################################"
   ]
  },
  {
   "cell_type": "code",
   "execution_count": null,
   "id": "d5fcf749-d198-49de-a3fd-2792e5b13a53",
   "metadata": {
    "tags": []
   },
   "outputs": [],
   "source": [
    "## Input data\n",
    "cd ${GP2_release5}/imputed_genotypes/AJ/"
   ]
  },
  {
   "cell_type": "code",
   "execution_count": null,
   "id": "1f9a763f-cad6-48ba-96ef-782d34adf813",
   "metadata": {
    "tags": []
   },
   "outputs": [],
   "source": [
    "## Output data \n",
    "mkdir ${WORK_DIR}/AJ/"
   ]
  },
  {
   "cell_type": "code",
   "execution_count": null,
   "id": "03119fe2-ecfb-4b06-997b-7111e6461b17",
   "metadata": {
    "tags": []
   },
   "outputs": [],
   "source": [
    "## Load packages\n",
    "module load plink/2.0-alpha"
   ]
  },
  {
   "cell_type": "code",
   "execution_count": null,
   "id": "09970d51-4d48-432f-bec3-6eb3faec8632",
   "metadata": {
    "tags": []
   },
   "outputs": [],
   "source": [
    "## Extract 90 risk loci per chr\n",
    "for chnum in {1,2,3,4,5,6,7,8,9,10,11,12,13,14,15,16,17,18,19,20,21,22};\n",
    "do\n",
    "    plink2 \\\n",
    "    --pfile chr\"$chnum\"_AJ_release5 \\\n",
    "    --extract range ${WORK_DIR}/CHR_POS_HG38.txt  \\\n",
    "    --make-bed \\\n",
    "    --out ${WORK_DIR}/AJ/PRS_chr\"$chnum\"_release5\n",
    "done"
   ]
  },
  {
   "cell_type": "code",
   "execution_count": null,
   "id": "27c5f865-08d5-4755-a0c1-583f2bfd69c2",
   "metadata": {
    "tags": []
   },
   "outputs": [],
   "source": [
    "## Update sex and remove related\n",
    "module load plink/1.9\n",
    "cd ${WORK_DIR}\n",
    "for chnum in {1,2,3,4,5,6,7,8,9,10,11,12,13,14,15,16,17,18,19,20,21,22};\n",
    "do\n",
    "    plink \\\n",
    "    --bfile AJ/PRS_chr\"$chnum\"_release5 \\\n",
    "    --update-sex sex.txt \\\n",
    "    --keep related_AJ \\\n",
    "    --make-bed \\\n",
    "    --out AJ/PRS_chr\"$chnum\"_release5_gender\n",
    "done"
   ]
  },
  {
   "cell_type": "code",
   "execution_count": null,
   "id": "de4d4669-6e83-456b-b902-6f5229c5092a",
   "metadata": {},
   "outputs": [],
   "source": [
    "## Cat files\n",
    "cd ${WORK_DIR}/AJ/\n",
    "ls *_release5_gender.bim > temp\n",
    "head temp"
   ]
  },
  {
   "cell_type": "code",
   "execution_count": null,
   "id": "befa49b8-290d-427e-91e6-28500f23d2cc",
   "metadata": {},
   "outputs": [],
   "source": [
    "## Remove *bim so you only keep the core name\n",
    "sed 's/.bim//g' temp > temp2\n",
    "head temp2"
   ]
  },
  {
   "cell_type": "code",
   "execution_count": null,
   "id": "f29eb0a8-7f96-47b7-96c3-1016901583d4",
   "metadata": {},
   "outputs": [],
   "source": [
    "## Remove chr1 from the list so we do not merge it twice\n",
    "grep -v \"PRS_chr1_release5_gender\" temp2 > files.txt\n",
    "cat files.txt"
   ]
  },
  {
   "cell_type": "markdown",
   "id": "44d52826-27fb-4683-bd24-3ae2a3487255",
   "metadata": {},
   "source": [
    "## Merge files"
   ]
  },
  {
   "cell_type": "code",
   "execution_count": null,
   "id": "0e4a972e-55e3-487e-8256-bde101d3b030",
   "metadata": {},
   "outputs": [],
   "source": [
    "## Merge list using chr 1 as your core input\n",
    "module load plink/1.9\n",
    "plink \\\n",
    "--bfile PRS_chr5_release5_gender \\\n",
    "--merge-list files.txt \\\n",
    "--make-bed \\\n",
    "--out PRS_ALL_release5_gender"
   ]
  },
  {
   "cell_type": "code",
   "execution_count": null,
   "id": "d2ad6712-56d4-47a5-9272-034bea325895",
   "metadata": {},
   "outputs": [],
   "source": [
    "## Reformat *bim file (concatenate first and fourth columns and replace second)\n",
    "awk '{print $1, $1\":\"$4, $3, $4, $5, $6}' PRS_ALL_release5_gender.bim > temp3\n",
    "head temp3"
   ]
  },
  {
   "cell_type": "code",
   "execution_count": null,
   "id": "2336978a-a42c-4c66-874e-ca4567cb2516",
   "metadata": {},
   "outputs": [],
   "source": [
    "## Replace temp2 by new bim file\n",
    "mv temp3 PRS_ALL_release5_gender.bim"
   ]
  },
  {
   "cell_type": "markdown",
   "id": "cf9b3b68-6fca-4c62-befa-c9b4c2ad0b91",
   "metadata": {},
   "source": [
    "## Estimate profiles"
   ]
  },
  {
   "cell_type": "code",
   "execution_count": null,
   "id": "78e32220-86be-4998-8ab9-2c4e5eeecc11",
   "metadata": {},
   "outputs": [],
   "source": [
    "## Calculate scores\n",
    "module load plink/1.9\n",
    "plink \\\n",
    "--bfile PRS_ALL_release5_gender \\\n",
    "--score ${WORK_DIR}/90LOCI_AFRICAN_CHR_POS.txt \\\n",
    "--out PRS_score_release_AFRICAN\n",
    "\n",
    "plink \\\n",
    "--bfile PRS_ALL_release5_gender \\\n",
    "--score ${WORK_DIR}/META_FOO_23ANDME_90LOCI_EASTASIAN_CHR_POS.txt \\\n",
    "--out PRS_score_release_EASTASIANS\n",
    "\n",
    "plink \\\n",
    "--bfile PRS_ALL_release5_gender \\\n",
    "--score ${WORK_DIR}/META_LOESCH_23ANDME_90LOCI_LATINO_CHR_POS.txt \\\n",
    "--out PRS_score_release_LATINO\n",
    "\n",
    "plink \\\n",
    "--bfile PRS_ALL_release5_gender \\\n",
    "--score ${WORK_DIR}/90LOCI_EUROPEANS_CHR_POS.txt \\\n",
    "--out PRS_score_release_EUROPEANS"
   ]
  },
  {
   "cell_type": "code",
   "execution_count": null,
   "id": "9fb0a228-bc0e-455c-ae8f-44dbc5432725",
   "metadata": {
    "tags": []
   },
   "outputs": [],
   "source": [
    "ls ${WORK_DIR}/AJ/"
   ]
  },
  {
   "cell_type": "code",
   "execution_count": null,
   "id": "c7f6f969-36cc-494f-9ff0-84e913cb88cd",
   "metadata": {},
   "outputs": [],
   "source": []
  }
 ],
 "metadata": {
  "kernelspec": {
   "display_name": "Bash",
   "language": "bash",
   "name": "bash"
  },
  "language_info": {
   "codemirror_mode": "shell",
   "file_extension": ".sh",
   "mimetype": "text/x-sh",
   "name": "bash"
  }
 },
 "nbformat": 4,
 "nbformat_minor": 5
}
